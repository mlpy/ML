{
 "cells": [
  {
   "cell_type": "code",
   "execution_count": 1,
   "metadata": {},
   "outputs": [],
   "source": [
    "import speech_recognition as sr"
   ]
  },
  {
   "cell_type": "code",
   "execution_count": 22,
   "metadata": {},
   "outputs": [
    {
     "name": "stdout",
     "output_type": "stream",
     "text": [
      "say\n"
     ]
    }
   ],
   "source": [
    "r = sr.Recognizer()\n",
    "\n",
    "with sr.Microphone() as mp:\n",
    "    print('say')\n",
    "    audio = r.listen(mp)\n",
    "    \n",
    "try:\n",
    "    print(r.recognize_google(audio))\n",
    "\n",
    "except:\n",
    "    pass"
   ]
  },
  {
   "cell_type": "code",
   "execution_count": 21,
   "metadata": {},
   "outputs": [
    {
     "name": "stdout",
     "output_type": "stream",
     "text": [
      "listen....\n",
      "sorryyy................\n"
     ]
    }
   ],
   "source": [
    "with sr.AudioFile(\"C://Users//HP//Downloads//modi_12.wav\") as source: \n",
    "    #reads the audio file. Here we use record instead of \n",
    "    #listen \n",
    "    print(\"listen....\")\n",
    "    audio = r.listen(source)\n",
    "    try:\n",
    "            #text=r.recognize_google(audio)\n",
    "            #print(\"the text is......: {}\".format(text))\n",
    "            r.recognize_google(audio, language = 'hi-IN')\n",
    "    except:\n",
    "        print(\"sorryyy................\")"
   ]
  },
  {
   "cell_type": "code",
   "execution_count": 32,
   "metadata": {},
   "outputs": [
    {
     "name": "stdout",
     "output_type": "stream",
     "text": [
      "Exception: [WinError 10060] A connection attempt failed because the connected party did not properly respond after a period of time, or established connection failed because connected host has failed to respond\n"
     ]
    }
   ],
   "source": [
    "import speech_recognition as sr\n",
    "r = sr.Recognizer()\n",
    "\n",
    "hellow=sr.AudioFile('C://Users//HP//Downloads//eng.wav')\n",
    "with hellow as source:\n",
    "    audio = r.record(source)\n",
    "try:\n",
    "    s = r.recognize_google(audio)\n",
    "    print(\"Text: \"+s)\n",
    "except Exception as e:\n",
    "    print(\"Exception: \"+str(e))"
   ]
  },
  {
   "cell_type": "code",
   "execution_count": 19,
   "metadata": {},
   "outputs": [
    {
     "name": "stdout",
     "output_type": "stream",
     "text": [
      "Done!\n",
      "recognition request failed: Bad Request\n"
     ]
    }
   ],
   "source": [
    "import speech_recognition as sr\n",
    "\n",
    "r = sr.Recognizer()\n",
    "\n",
    "audio = 'C://Users//HP//Downloads//eng.wav'\n",
    "\n",
    "with sr.AudioFile(audio) as source:\n",
    "    audio = r.record(source)\n",
    "    print ('Done!')\n",
    "\n",
    "try:\n",
    "    text = r.recognize_google(audio)\n",
    "    print (text)\n",
    "\n",
    "except Exception as e:\n",
    "    print (e)"
   ]
  },
  {
   "cell_type": "code",
   "execution_count": 23,
   "metadata": {},
   "outputs": [],
   "source": [
    "import speech_recognition as sr\n",
    "r = sr.Recognizer()"
   ]
  },
  {
   "cell_type": "code",
   "execution_count": 31,
   "metadata": {},
   "outputs": [
    {
     "name": "stdout",
     "output_type": "stream",
     "text": [
      "Sorry.. run again...\n"
     ]
    }
   ],
   "source": [
    "\n",
    "with sr.AudioFile('C://Users//HP//Downloads//modi_12.wav') as source:\n",
    "    audio = r.listen(source)\n",
    "    try:\n",
    "        text = r.recognize_google(audio,language = 'eng-IN')\n",
    "        print('Working on...')\n",
    "        print(text)\n",
    "    except:\n",
    "        print('Sorry.. run again...')"
   ]
  },
  {
   "cell_type": "code",
   "execution_count": null,
   "metadata": {},
   "outputs": [],
   "source": []
  }
 ],
 "metadata": {
  "kernelspec": {
   "display_name": "Python 3",
   "language": "python",
   "name": "python3"
  },
  "language_info": {
   "codemirror_mode": {
    "name": "ipython",
    "version": 3
   },
   "file_extension": ".py",
   "mimetype": "text/x-python",
   "name": "python",
   "nbconvert_exporter": "python",
   "pygments_lexer": "ipython3",
   "version": "3.6.5"
  }
 },
 "nbformat": 4,
 "nbformat_minor": 2
}
