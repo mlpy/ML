{
 "cells": [
  {
   "cell_type": "code",
   "execution_count": 7,
   "metadata": {},
   "outputs": [],
   "source": [
    "#install the below packages\n",
    "#pip install SpeechRecognition\n",
    "#pip install pyaudio\n",
    "\n",
    "import speech_recognition as sr"
   ]
  },
  {
   "cell_type": "code",
   "execution_count": 8,
   "metadata": {},
   "outputs": [],
   "source": [
    "r = sr.Recognizer()"
   ]
  },
  {
   "cell_type": "code",
   "execution_count": 6,
   "metadata": {},
   "outputs": [
    {
     "name": "stdout",
     "output_type": "stream",
     "text": [
      "listen....\n",
      "the text is......: graduation today I want to tell you to restore restore my life that's just read stories story is back connecting the dots I dropped RV College after the first 6 months but there is a drop in for 18 months before I will be quiet quiet I drop out it started before I was born on my mother was young on with Graduate school and she decided for your production very strong adopted by college graduates in which of the following and his wife accept it is it the last minute that I really wanna grow my parents are waiting list in the middle of the night asking we can expected baby boy you want to sell my biological mother letter to my mother I never graduate college in my father has never graduate from high school fees the sun the final question papers only a few months later on my terrace promise that I would your college this will start in my life and 17 years later I did college college college this expensive than that and all my working place. Saving food expense of my College tuition after 6 months I could see the value and I have no idea what I want to do if my wife and tell ideas for college going to help me figure it out and you are was spinning all the money my parents save the entire life to study dropout\n",
      "Done..Completed...\n"
     ]
    }
   ],
   "source": [
    "with sr.AudioFile(\"SteveJobsSpeech_2min.wav\") as source: \n",
    "    #reads the audio file. Here we use record instead of mic\n",
    "    #listen the file \n",
    "    print(\"listen....\")\n",
    "    audio_source = r.listen(source)\n",
    "    try:\n",
    "            text=r.recognize_google(audio_source)\n",
    "            print(\"the text is......: {}\".format(text))\n",
    "            #r.recognize_google(audio, language = 'hi-IN')\n",
    "            print('Done..Completed...')\n",
    "    except:\n",
    "        print('Sorry.. run again please...')"
   ]
  }
 ],
 "metadata": {
  "kernelspec": {
   "display_name": "Python 3",
   "language": "python",
   "name": "python3"
  },
  "language_info": {
   "codemirror_mode": {
    "name": "ipython",
    "version": 3
   },
   "file_extension": ".py",
   "mimetype": "text/x-python",
   "name": "python",
   "nbconvert_exporter": "python",
   "pygments_lexer": "ipython3",
   "version": "3.6.5"
  }
 },
 "nbformat": 4,
 "nbformat_minor": 2
}
